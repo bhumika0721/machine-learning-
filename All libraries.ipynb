{
 "cells": [
  {
   "cell_type": "code",
   "execution_count": 17,
   "id": "16bc36d4-c0fe-4ac1-9e3e-442c9f3f69a3",
   "metadata": {},
   "outputs": [],
   "source": [
    "import pandas as pd\n",
    "import numpy as np \n",
    "import seaborn as sns\n",
    "import matplotlib.pyplot as plt \n",
    "from sklearn.model_selection import train_test_split\n",
    "from sklearn.linear_model import LinearRegression\n",
    "from sklearn.preprocessing import LabelEncoder,OrdinalEncoder,OneHotEncoder\n",
    "from sklearn.impute import SimpleImputer\n",
    "from sklearn.compose import ColumnTransformer\n",
    "from sklearn.preprocessing import PolynomialFeatures\n",
    "from sklearn.preprocessing import MinMaxScaler , StandardScaler\n",
    "from mlxtend.feature_selection import SequentialFeatureSelector      #wrapper method\n",
    "from sklearn.feature_selection import VarianceThreshold              #filter method\n",
    "from sklearn.feature_selection import f_classif,SelectKBest,f_regression # for anova\n",
    "from sklearn.feature_selection  import chi2\n",
    "from sklearn.metrics import root_mean_squared_error,mean_absolute_error,mean_squared_error,r2_score            #evalution matrix for linear regression \n",
    "from sklearn.metrics import confusion_matrix, classification_report,f1_score,precision_score,recall_score,accuracy_score      #logistic regression evalution matrix\n",
    "from sklearn.naive_bayes import GaussianNB,MultinomialNB,BernoulliNB\n",
    "from sklearn.feature_extraction.text import CountVectorizer\n",
    "from sklearn import tree\n",
    "from sklearn.tree import DecisionTreeClassifier , DecisionTreeRegressor\n",
    "from sklearn.neighbors import KNeighborsClassifier            # KNN\n",
    "from sklearn.ensemble import RandomForestClassifier              # random foest\n",
    "from mlxtend.plotting import plot_decision_regions             # for ploting \n",
    "from sklearn.svm import SVC              # support vector machine \n",
    "from sklearn.model_selection import KFold,train_test_split,cross_val_score       # cross validation kfold\n",
    "from sklearn.ensemble import AdaBoostClassifier ,GradientBoostingClassifier\n",
    "from  xgboost import XGBClassifier\n",
    "from sklearn.cluster import KMeans\n",
    "from sklearn.metrics import silhouette_score\n",
    "import scipy.cluster.hierarchy as shc\n",
    "from sklearn.cluster import AgglomerativeClustering\n",
    "from sklearn.datasets import make_moons\n",
    "from sklearn.cluster import DBSCAN\n",
    "from mlxtend.frequent_patterns import apriori,fpgrowth,association_rules\n",
    "from numpy.linalg import eig\n",
    "from sklearn.decomposition import PCA"
   ]
  },
  {
   "cell_type": "code",
   "execution_count": null,
   "id": "07273153-0b72-4133-b274-2f75686ff048",
   "metadata": {},
   "outputs": [],
   "source": []
  },
  {
   "cell_type": "code",
   "execution_count": null,
   "id": "6bb70846-3da6-4f0f-be73-19b8e27a1667",
   "metadata": {},
   "outputs": [],
   "source": []
  }
 ],
 "metadata": {
  "kernelspec": {
   "display_name": "Python 3 (ipykernel)",
   "language": "python",
   "name": "python3"
  },
  "language_info": {
   "codemirror_mode": {
    "name": "ipython",
    "version": 3
   },
   "file_extension": ".py",
   "mimetype": "text/x-python",
   "name": "python",
   "nbconvert_exporter": "python",
   "pygments_lexer": "ipython3",
   "version": "3.12.7"
  }
 },
 "nbformat": 4,
 "nbformat_minor": 5
}
