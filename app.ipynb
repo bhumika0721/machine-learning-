{
 "cells": [
  {
   "cell_type": "code",
   "execution_count": 1,
   "id": "df5d2b67-0fa3-43ee-8dc4-c6823b3f68f8",
   "metadata": {},
   "outputs": [],
   "source": [
    "import numpy as np\n",
    "from flask import Flask,request,jsonify,render_template\n",
    "import pickle\n",
    "import pandas as pd"
   ]
  },
  {
   "cell_type": "code",
   "execution_count": null,
   "id": "f351075b-ef99-421b-8a64-b35cbacefbd8",
   "metadata": {},
   "outputs": [
    {
     "name": "stdout",
     "output_type": "stream",
     "text": [
      " * Serving Flask app '__main__'\n",
      " * Debug mode: off\n"
     ]
    },
    {
     "name": "stderr",
     "output_type": "stream",
     "text": [
      "WARNING: This is a development server. Do not use it in a production deployment. Use a production WSGI server instead.\n",
      " * Running on http://127.0.0.1:5000\n",
      "Press CTRL+C to quit\n",
      "127.0.0.1 - - [03/Jul/2025 17:20:58] \"GET / HTTP/1.1\" 200 -\n",
      "127.0.0.1 - - [03/Jul/2025 17:20:58] \"GET /static/myfile.css HTTP/1.1\" 304 -\n",
      "[2025-07-03 17:21:01,961] ERROR in app: Exception on /Home [GET]\n",
      "Traceback (most recent call last):\n",
      "  File \"C:\\Users\\sc024\\anaconda3\\Lib\\site-packages\\flask\\app.py\", line 1473, in wsgi_app\n",
      "    response = self.full_dispatch_request()\n",
      "               ^^^^^^^^^^^^^^^^^^^^^^^^^^^^\n",
      "  File \"C:\\Users\\sc024\\anaconda3\\Lib\\site-packages\\flask\\app.py\", line 882, in full_dispatch_request\n",
      "    rv = self.handle_user_exception(e)\n",
      "         ^^^^^^^^^^^^^^^^^^^^^^^^^^^^^\n",
      "  File \"C:\\Users\\sc024\\anaconda3\\Lib\\site-packages\\flask\\app.py\", line 880, in full_dispatch_request\n",
      "    rv = self.dispatch_request()\n",
      "         ^^^^^^^^^^^^^^^^^^^^^^^\n",
      "  File \"C:\\Users\\sc024\\anaconda3\\Lib\\site-packages\\flask\\app.py\", line 865, in dispatch_request\n",
      "    return self.ensure_sync(self.view_functions[rule.endpoint])(**view_args)  # type: ignore[no-any-return]\n",
      "           ^^^^^^^^^^^^^^^^^^^^^^^^^^^^^^^^^^^^^^^^^^^^^^^^^^^^^^^^^^^^^^^^^\n",
      "  File \"C:\\Users\\sc024\\AppData\\Local\\Temp\\ipykernel_19152\\1631781028.py\", line 11, in Home\n",
      "    return render_template(\"ml.html\")\n",
      "           ^^^^^^^^^^^^^^^^^^^^^^^^^^\n",
      "  File \"C:\\Users\\sc024\\anaconda3\\Lib\\site-packages\\flask\\templating.py\", line 150, in render_template\n",
      "    return _render(app, template, context)\n",
      "           ^^^^^^^^^^^^^^^^^^^^^^^^^^^^^^^\n",
      "  File \"C:\\Users\\sc024\\anaconda3\\Lib\\site-packages\\flask\\templating.py\", line 131, in _render\n",
      "    rv = template.render(context)\n",
      "         ^^^^^^^^^^^^^^^^^^^^^^^^\n",
      "  File \"C:\\Users\\sc024\\anaconda3\\Lib\\site-packages\\jinja2\\environment.py\", line 1304, in render\n",
      "    self.environment.handle_exception()\n",
      "  File \"C:\\Users\\sc024\\anaconda3\\Lib\\site-packages\\jinja2\\environment.py\", line 939, in handle_exception\n",
      "    raise rewrite_traceback_stack(source=source)\n",
      "  File \"C:\\Users\\sc024\\Machine Learning\\CYBROM\\templates\\ml.html\", line 3, in top-level template code\n",
      "    <form action=\"{{url_for('Predict')}}\"method=\"post\">\n",
      "    ^^^^^^^^^^^^^^^^^^^^^^^^^\n",
      "  File \"C:\\Users\\sc024\\anaconda3\\Lib\\site-packages\\flask\\app.py\", line 1084, in url_for\n",
      "    return self.handle_url_build_error(error, endpoint, values)\n",
      "           ^^^^^^^^^^^^^^^^^^^^^^^^^^^^^^^^^^^^^^^^^^^^^^^^^^^^\n",
      "  File \"C:\\Users\\sc024\\anaconda3\\Lib\\site-packages\\flask\\app.py\", line 1073, in url_for\n",
      "    rv = url_adapter.build(  # type: ignore[union-attr]\n",
      "         ^^^^^^^^^^^^^^^^^^^^^^^^^^^^^^^^^^^^^^^^^^^^^^\n",
      "  File \"C:\\Users\\sc024\\anaconda3\\Lib\\site-packages\\werkzeug\\routing\\map.py\", line 924, in build\n",
      "    raise BuildError(endpoint, values, method, self)\n",
      "werkzeug.routing.exceptions.BuildError: Could not build url for endpoint 'Predict'. Did you mean 'predict' instead?\n",
      "127.0.0.1 - - [03/Jul/2025 17:21:01] \"GET /Home HTTP/1.1\" 500 -\n"
     ]
    }
   ],
   "source": [
    "app=Flask(__name__)\n",
    "model = pickle.load(open(\"weather.pkl\",\"rb\"))\n",
    "# load the pickle file\n",
    "# image\n",
    "@app.route(\"/\")\n",
    "def serve_image():\n",
    "     message =\"Image Route\"\n",
    "     return render_template(\"mydesign.html\",message=message)\n",
    "@app.route(\"/Home\")    \n",
    "def Home():\n",
    "    return render_template(\"ml.html\")\n",
    "@app.route(\"/predict\",methods=[\"POST\"]) \n",
    "def predict():\n",
    "    f=[x for x in request.form.values()]\n",
    "    features=[np.array(f)]\n",
    "    prediction =model.predict(features)\n",
    "    return render_template(\"ml.html\",prediction=\"weather is {}\".format(prediction))\n",
    "if __name__==\"__main__\":\n",
    "    # app.run(debug=True)\n",
    "     app.run(host='127.0.0.1',port=5000)\n",
    "    "
   ]
  },
  {
   "cell_type": "code",
   "execution_count": null,
   "id": "2b753aa8-9405-4e12-b300-36db170f38ab",
   "metadata": {},
   "outputs": [],
   "source": []
  },
  {
   "cell_type": "code",
   "execution_count": null,
   "id": "9f5d7519-6ea3-4c4d-ad13-a2c221357b82",
   "metadata": {},
   "outputs": [],
   "source": []
  }
 ],
 "metadata": {
  "kernelspec": {
   "display_name": "Python 3 (ipykernel)",
   "language": "python",
   "name": "python3"
  },
  "language_info": {
   "codemirror_mode": {
    "name": "ipython",
    "version": 3
   },
   "file_extension": ".py",
   "mimetype": "text/x-python",
   "name": "python",
   "nbconvert_exporter": "python",
   "pygments_lexer": "ipython3",
   "version": "3.12.7"
  }
 },
 "nbformat": 4,
 "nbformat_minor": 5
}
