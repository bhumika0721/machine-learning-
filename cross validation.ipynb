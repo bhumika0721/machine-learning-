{
 "cells": [
  {
   "cell_type": "code",
   "execution_count": null,
   "id": "d3cb5955-8665-4698-9924-a045c69ad864",
   "metadata": {},
   "outputs": [],
   "source": [
    "# cross validation(k fold)-reduce overfitting "
   ]
  },
  {
   "cell_type": "code",
   "execution_count": 9,
   "id": "b6dc8378-ca32-4f9e-b993-cc14cb9ac46f",
   "metadata": {},
   "outputs": [],
   "source": [
    "import pandas as pd\n",
    "import numpy as np\n",
    "from sklearn.model_selection import KFold,train_test_split,cross_val_score"
   ]
  },
  {
   "cell_type": "code",
   "execution_count": 3,
   "id": "7813b2cf-4def-443c-a8f2-03b67565708e",
   "metadata": {},
   "outputs": [],
   "source": [
    "data ={'Age':[20,25,23,21,29,28,26],'salary':[26,30,27,22,25,30,32]}"
   ]
  },
  {
   "cell_type": "code",
   "execution_count": 5,
   "id": "150833a0-49a3-4955-b85a-445079cec67d",
   "metadata": {},
   "outputs": [],
   "source": [
    "newdata=pd.DataFrame(data,columns=['Age','salary'])"
   ]
  },
  {
   "cell_type": "code",
   "execution_count": 6,
   "id": "fda1eb61-d366-40f9-927a-928aeca91259",
   "metadata": {},
   "outputs": [
    {
     "data": {
      "text/html": [
       "<div>\n",
       "<style scoped>\n",
       "    .dataframe tbody tr th:only-of-type {\n",
       "        vertical-align: middle;\n",
       "    }\n",
       "\n",
       "    .dataframe tbody tr th {\n",
       "        vertical-align: top;\n",
       "    }\n",
       "\n",
       "    .dataframe thead th {\n",
       "        text-align: right;\n",
       "    }\n",
       "</style>\n",
       "<table border=\"1\" class=\"dataframe\">\n",
       "  <thead>\n",
       "    <tr style=\"text-align: right;\">\n",
       "      <th></th>\n",
       "      <th>Age</th>\n",
       "      <th>salary</th>\n",
       "    </tr>\n",
       "  </thead>\n",
       "  <tbody>\n",
       "    <tr>\n",
       "      <th>0</th>\n",
       "      <td>20</td>\n",
       "      <td>26</td>\n",
       "    </tr>\n",
       "    <tr>\n",
       "      <th>1</th>\n",
       "      <td>25</td>\n",
       "      <td>30</td>\n",
       "    </tr>\n",
       "    <tr>\n",
       "      <th>2</th>\n",
       "      <td>23</td>\n",
       "      <td>27</td>\n",
       "    </tr>\n",
       "    <tr>\n",
       "      <th>3</th>\n",
       "      <td>21</td>\n",
       "      <td>22</td>\n",
       "    </tr>\n",
       "    <tr>\n",
       "      <th>4</th>\n",
       "      <td>29</td>\n",
       "      <td>25</td>\n",
       "    </tr>\n",
       "    <tr>\n",
       "      <th>5</th>\n",
       "      <td>28</td>\n",
       "      <td>30</td>\n",
       "    </tr>\n",
       "    <tr>\n",
       "      <th>6</th>\n",
       "      <td>26</td>\n",
       "      <td>32</td>\n",
       "    </tr>\n",
       "  </tbody>\n",
       "</table>\n",
       "</div>"
      ],
      "text/plain": [
       "   Age  salary\n",
       "0   20      26\n",
       "1   25      30\n",
       "2   23      27\n",
       "3   21      22\n",
       "4   29      25\n",
       "5   28      30\n",
       "6   26      32"
      ]
     },
     "execution_count": 6,
     "metadata": {},
     "output_type": "execute_result"
    }
   ],
   "source": [
    "newdata"
   ]
  },
  {
   "cell_type": "code",
   "execution_count": 7,
   "id": "1af9e63b-498a-4def-8d80-fc8930d08032",
   "metadata": {},
   "outputs": [],
   "source": [
    "kf = KFold(n_splits=3)"
   ]
  },
  {
   "cell_type": "code",
   "execution_count": 8,
   "id": "63d34233-17c2-45f1-a67f-4bfaaace3de0",
   "metadata": {},
   "outputs": [
    {
     "name": "stdout",
     "output_type": "stream",
     "text": [
      "[3 4 5 6] [0 1 2]\n",
      "[0 1 2 5 6] [3 4]\n",
      "[0 1 2 3 4] [5 6]\n"
     ]
    }
   ],
   "source": [
    "for x,y in kf.split(newdata[['Age']]):\n",
    "    print(x,y)"
   ]
  },
  {
   "cell_type": "code",
   "execution_count": null,
   "id": "41f4ff6a-f045-4d22-b18f-d7c953422e21",
   "metadata": {},
   "outputs": [],
   "source": []
  }
 ],
 "metadata": {
  "kernelspec": {
   "display_name": "Python 3 (ipykernel)",
   "language": "python",
   "name": "python3"
  },
  "language_info": {
   "codemirror_mode": {
    "name": "ipython",
    "version": 3
   },
   "file_extension": ".py",
   "mimetype": "text/x-python",
   "name": "python",
   "nbconvert_exporter": "python",
   "pygments_lexer": "ipython3",
   "version": "3.12.7"
  }
 },
 "nbformat": 4,
 "nbformat_minor": 5
}
